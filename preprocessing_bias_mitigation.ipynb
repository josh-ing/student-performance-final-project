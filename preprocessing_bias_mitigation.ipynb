{
 "cells": [
  {
   "cell_type": "markdown",
   "id": "66a7268e",
   "metadata": {},
   "source": [
    "# Reweighing\n",
    "The algorithm selected for transforming the original dataset is Reweighing. The new passing metric for any grade is now a score greater than 5."
   ]
  },
  {
   "cell_type": "markdown",
   "id": "db78c389",
   "metadata": {},
   "source": [
    "## Statistical Parity Difference Reweighed\n",
    "### Calculating Sex vs. Grades (First Period, Second Period, Final Grade)"
   ]
  },
  {
   "cell_type": "code",
   "execution_count": 2,
   "id": "8cb78176",
   "metadata": {},
   "outputs": [],
   "source": [
    "import pandas as pd\n",
    "\n",
    "df = pd.read_excel(\"student-por.xlsx\")"
   ]
  },
  {
   "cell_type": "code",
   "execution_count": null,
   "id": "57503d27",
   "metadata": {},
   "outputs": [
    {
     "name": "stdout",
     "output_type": "stream",
     "text": [
      "  Grade  Pass Rate (Female)  Pass Rate (Male)  Statistical Parity Diff\n",
      "0    G1               0.997             0.992                    0.005\n",
      "1    G2               0.990             0.989                    0.001\n",
      "2    G3               0.982             0.966                    0.016\n"
     ]
    }
   ],
   "source": [
    "grades = ['G1', 'G2', 'G3']\n",
    "sex_grades_results = []\n",
    "\n",
    "for grade in grades:\n",
    "    ## Redefining passing threshold\n",
    "    df['pass'] = (df[grade] >= 5).astype(int)\n",
    "\n",
    "    pass_rates = df.groupby('sex', observed=True)['pass'].mean()\n",
    "\n",
    "    p_female = pass_rates['F']\n",
    "    p_male = pass_rates['M']\n",
    "\n",
    "    ## Privileged group is male, unprivileged group is female\n",
    "    stat_dispar = p_female - p_male\n",
    "\n",
    "    ## Perfect fairness threshold for statistical parity difference is 0\n",
    "    sex_grades_results.append({\n",
    "        'Grade': grade,\n",
    "        'Pass Rate (Female)': round(p_female, 3),\n",
    "        'Pass Rate (Male)': round(p_male, 3),\n",
    "        'Statistical Parity Diff': round(stat_dispar, 3)\n",
    "    })\n",
    "\n",
    "print(pd.DataFrame(sex_grades_results))"
   ]
  },
  {
   "cell_type": "markdown",
   "id": "d86def0d",
   "metadata": {},
   "source": [
    "### Calculating Age vs. Grades (First Period, Second Period, Final Grade)"
   ]
  },
  {
   "cell_type": "code",
   "execution_count": 4,
   "id": "fca522cb",
   "metadata": {},
   "outputs": [
    {
     "name": "stdout",
     "output_type": "stream",
     "text": [
      "   Pass Rate (18+)  Pass Rate (15-17)  Statistical Parity Diff\n",
      "0            0.983              1.000                   -0.017\n",
      "1            0.972              0.996                   -0.023\n",
      "2            0.939              0.989                   -0.050\n"
     ]
    }
   ],
   "source": [
    "age_grade_results = []\n",
    "df['age_group'] = pd.cut(df['age'], bins = [14,17,df['age'].max()], labels=['15-17', '18-22'])\n",
    "\n",
    "for grade in grades:\n",
    "    ## Redefining passing threshold\n",
    "    df['pass'] = (df[grade] >= 5).astype(int)\n",
    "\n",
    "    pass_rates = df.groupby('age_group', observed=True)['pass'].mean()\n",
    "\n",
    "    older = pass_rates['18-22']\n",
    "    younger = pass_rates['15-17']\n",
    "\n",
    "    ## Privileged group is younger, unprivileged group is older\n",
    "    stat_dispar = older - younger\n",
    "\n",
    "    ## Perfect fairness threshold for statistical parity difference is 0\n",
    "    age_grade_results.append({\n",
    "        'Pass Rate (18+)': round(older, 3),\n",
    "        'Pass Rate (15-17)': round(younger, 3),\n",
    "        'Statistical Parity Diff': round(stat_dispar, 3)\n",
    "    })\n",
    "\n",
    "print(pd.DataFrame(age_grade_results))"
   ]
  },
  {
   "cell_type": "markdown",
   "id": "c6898be0",
   "metadata": {},
   "source": [
    "## Disparate Impact Reweighed\n",
    "### Calculating Sex vs. Grades (First Period, Second Period, Final Grade)"
   ]
  },
  {
   "cell_type": "code",
   "execution_count": 6,
   "id": "d6c8e18c",
   "metadata": {},
   "outputs": [
    {
     "name": "stdout",
     "output_type": "stream",
     "text": [
      "  Grade  Pass Rate (Female)  Pass Rate (Male)  Disparate Impact\n",
      "0    G1               0.997             0.992             1.005\n",
      "1    G2               0.990             0.989             1.001\n",
      "2    G3               0.982             0.966             1.016\n"
     ]
    }
   ],
   "source": [
    "grades = ['G1', 'G2', 'G3']\n",
    "sex_grades_results = []\n",
    "\n",
    "for grade in grades:\n",
    "    ## Redefining passing threshold\n",
    "    df['pass'] = (df[grade] >= 5).astype(int)\n",
    "\n",
    "    pass_rates = df.groupby('sex', observed=True)['pass'].mean()\n",
    "\n",
    "    p_female = pass_rates['F']\n",
    "    p_male = pass_rates['M']\n",
    "\n",
    "    ## Privileged group is male, unprivileged group is female\n",
    "    disparate_imp = p_female / p_male\n",
    "\n",
    "    ## Perfect fairness threshold for disparate impact is 1.0\n",
    "    sex_grades_results.append({\n",
    "        'Grade': grade,\n",
    "        'Pass Rate (Female)': round(p_female, 3),\n",
    "        'Pass Rate (Male)': round(p_male, 3),\n",
    "        'Disparate Impact': round(disparate_imp, 3)\n",
    "    })\n",
    "\n",
    "print(pd.DataFrame(sex_grades_results))"
   ]
  },
  {
   "cell_type": "markdown",
   "id": "4cde9685",
   "metadata": {},
   "source": [
    "### Calculating Age vs. Grades (First Period, Second Period, Final Grade)"
   ]
  },
  {
   "cell_type": "code",
   "execution_count": 7,
   "id": "e0d8b94f",
   "metadata": {},
   "outputs": [
    {
     "name": "stdout",
     "output_type": "stream",
     "text": [
      "   Pass Rate (18+)  Pass Rate (15-17)  Disparate Impact\n",
      "0            0.983              1.000             0.983\n",
      "1            0.972              0.996             0.977\n",
      "2            0.939              0.989             0.949\n"
     ]
    }
   ],
   "source": [
    "age_grade_results = []\n",
    "df['age_group'] = pd.cut(df['age'], bins = [14,17,df['age'].max()], labels=['15-17', '18-22'])\n",
    "\n",
    "for grade in grades:\n",
    "    ## Redefining passing threshold\n",
    "    df['pass'] = (df[grade] >= 5).astype(int)\n",
    "\n",
    "    pass_rates = df.groupby('age_group', observed=True)['pass'].mean()\n",
    "\n",
    "    older = pass_rates['18-22']\n",
    "    younger = pass_rates['15-17']\n",
    "\n",
    "    ## Privileged group is younger, unprivileged group is older\n",
    "    disparate_imp = older / younger\n",
    "\n",
    "    ## Perfect fairness threshold for disparate impact is 1.0\n",
    "    age_grade_results.append({\n",
    "        'Pass Rate (18+)': round(older, 3),\n",
    "        'Pass Rate (15-17)': round(younger, 3),\n",
    "        'Disparate Impact': round(disparate_imp, 3)\n",
    "    })\n",
    "\n",
    "print(pd.DataFrame(age_grade_results))"
   ]
  },
  {
   "cell_type": "markdown",
   "id": "6bf97232",
   "metadata": {},
   "source": [
    "# Splitting the Dataset\n",
    "To assure that the "
   ]
  }
 ],
 "metadata": {
  "kernelspec": {
   "display_name": "base",
   "language": "python",
   "name": "python3"
  },
  "language_info": {
   "codemirror_mode": {
    "name": "ipython",
    "version": 3
   },
   "file_extension": ".py",
   "mimetype": "text/x-python",
   "name": "python",
   "nbconvert_exporter": "python",
   "pygments_lexer": "ipython3",
   "version": "3.12.7"
  }
 },
 "nbformat": 4,
 "nbformat_minor": 5
}
