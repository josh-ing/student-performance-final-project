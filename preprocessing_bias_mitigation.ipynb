{
 "cells": [
  {
   "cell_type": "code",
   "execution_count": 33,
   "id": "575c9c58-decd-44ff-b015-449f85f71309",
   "metadata": {},
   "outputs": [],
   "source": [
    "# Pre-processing Bias Mitigation\n",
    "## Selected Algorithm: Reweighting"
   ]
  },
  {
   "cell_type": "code",
   "execution_count": 35,
   "id": "af422531-2cab-4459-b05d-231ea421d956",
   "metadata": {},
   "outputs": [],
   "source": [
    "import pandas as pd\n",
    "from aif360.datasets import StandardDataset\n",
    "from aif360.algorithms.preprocessing import Reweighing\n",
    "\n",
    "# Load the dataset\n",
    "df = pd.read_excel(\"student-por.xlsx\")\n",
    "\n",
    "# Convert 'sex' column to binary values (0 for Female, 1 for Male)\n",
    "df[\"sex\"] = df[\"sex\"].map({\"F\": 0, \"M\": 1})\n",
    "\n",
    "# Ensure all categorical columns are properly encoded\n",
    "df = df.apply(lambda col: col.astype('category').cat.codes if col.dtypes == 'object' else col)\n",
    "\n",
    "# Convert the dataset into an AIF360-compatible format\n",
    "dataset = StandardDataset(\n",
    "    df,\n",
    "    label_name=\"G3\",  # Outcome variable\n",
    "    favorable_classes=[df[\"G3\"].max()],  # Favorable outcome (highest grade)\n",
    "    protected_attribute_names=[\"sex\"],  # Protected attribute\n",
    "    privileged_classes=[[1]],  # Male is privileged group\n",
    ")\n",
    "\n",
    "# Apply the Reweighing algorithm\n",
    "reweighing = Reweighing(unprivileged_groups=[{\"sex\": 0}], privileged_groups=[{\"sex\": 1}])\n",
    "reweighed_dataset = reweighing.fit_transform(dataset)\n",
    "\n",
    "# Add weights to the original dataset\n",
    "df[\"weights\"] = reweighed_dataset.instance_weights\n",
    "\n",
    "# Save the transformed dataset\n",
    "df.to_excel(\"reweighed_dataset.xlsx\", index=False)"
   ]
  },
  {
   "cell_type": "code",
   "execution_count": null,
   "id": "d77f44ef-2b64-4b8d-8c4f-0bdb5cef2b9f",
   "metadata": {},
   "outputs": [],
   "source": []
  }
 ],
 "metadata": {
  "kernelspec": {
   "display_name": "Python 3 (ipykernel)",
   "language": "python",
   "name": "python3"
  },
  "language_info": {
   "codemirror_mode": {
    "name": "ipython",
    "version": 3
   },
   "file_extension": ".py",
   "mimetype": "text/x-python",
   "name": "python",
   "nbconvert_exporter": "python",
   "pygments_lexer": "ipython3",
   "version": "3.12.1"
  }
 },
 "nbformat": 4,
 "nbformat_minor": 5
}
