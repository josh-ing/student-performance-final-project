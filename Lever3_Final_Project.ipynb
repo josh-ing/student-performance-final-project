{
 "cells": [
  {
   "cell_type": "markdown",
   "metadata": {},
   "source": [
    "# Fairness Metric Calculations"
   ]
  },
  {
   "cell_type": "markdown",
   "metadata": {},
   "source": [
    "Steps:\n",
    "1. Read from dataset\n",
    "2. Define passing criteria\n",
    "3. Calculate passing rate for each protected class (i.e., sex, age)\n",
    "4. Calculate fairness metric (i.e., statistical parity difference, disparate impact)"
   ]
  },
  {
   "cell_type": "code",
   "execution_count": 3,
   "metadata": {},
   "outputs": [],
   "source": [
    "import pandas as pd\n",
    "from sklearn.model_selection import train_test_split\n",
    "from sklearn.ensemble import RandomForestClassifier\n",
    "from aif360.datasets import StandardDataset\n",
    "from aif360.algorithms.preprocessing import Reweighing\n",
    "\n",
    "df = pd.read_excel(\"student-por.xlsx\")"
   ]
  },
  {
   "cell_type": "markdown",
   "metadata": {},
   "source": [
    "## Statistical Parity Difference\n",
    "### Calculating Sex vs. Grades (First Period, Second Period, Final Grade)"
   ]
  },
  {
   "cell_type": "code",
   "execution_count": 4,
   "metadata": {},
   "outputs": [
    {
     "name": "stdout",
     "output_type": "stream",
     "text": [
      "  Grade  Pass Rate (Female)  Pass Rate (Male)  Statistical Parity Diff\n",
      "0    G1               0.789             0.714                    0.074\n",
      "1    G2               0.812             0.726                    0.086\n",
      "2    G3               0.869             0.812                    0.057\n"
     ]
    }
   ],
   "source": [
    "grades = ['G1', 'G2', 'G3']\n",
    "sex_grades_results = []\n",
    "\n",
    "for grade in grades:\n",
    "    df['pass'] = (df[grade] >= 10).astype(int)\n",
    "\n",
    "    pass_rates = df.groupby('sex', observed=True)['pass'].mean()\n",
    "\n",
    "    p_female = pass_rates['F']\n",
    "    p_male = pass_rates['M']\n",
    "\n",
    "    ## Privileged group is male, unprivileged group is female\n",
    "    stat_dispar = p_female - p_male\n",
    "\n",
    "    ## Perfect fairness threshold for statistical parity difference is 0\n",
    "    sex_grades_results.append({\n",
    "        'Grade': grade,\n",
    "        'Pass Rate (Female)': round(p_female, 3),\n",
    "        'Pass Rate (Male)': round(p_male, 3),\n",
    "        'Statistical Parity Diff': round(stat_dispar, 3)\n",
    "    })\n",
    "\n",
    "print(pd.DataFrame(sex_grades_results))\n"
   ]
  },
  {
   "cell_type": "markdown",
   "metadata": {},
   "source": [
    "### Calculating Age vs. Grades (First Period, Second Period, Final Grade)"
   ]
  },
  {
   "cell_type": "code",
   "execution_count": 5,
   "metadata": {},
   "outputs": [
    {
     "name": "stdout",
     "output_type": "stream",
     "text": [
      "   Pass Rate (18+)  Pass Rate (15-17)  Statistical Parity Diff\n",
      "0            0.652              0.799                   -0.147\n",
      "1            0.696              0.808                   -0.112\n",
      "2            0.790              0.868                   -0.077\n"
     ]
    }
   ],
   "source": [
    "age_grade_results = []\n",
    "df['age_group'] = pd.cut(df['age'], bins = [14,17,df['age'].max()], labels=['15-17', '18-22'])\n",
    "\n",
    "for grade in grades:\n",
    "    df['pass'] = (df[grade] >= 10).astype(int)\n",
    "\n",
    "    pass_rates = df.groupby('age_group', observed=True)['pass'].mean()\n",
    "\n",
    "    older = pass_rates['18-22']\n",
    "    younger = pass_rates['15-17']\n",
    "\n",
    "    ## Privileged group is younger, unprivileged group is older\n",
    "    stat_dispar = older - younger\n",
    "\n",
    "    ## Perfect fairness threshold for statistical parity difference is 0\n",
    "    age_grade_results.append({\n",
    "        'Pass Rate (18+)': round(older, 3),\n",
    "        'Pass Rate (15-17)': round(younger, 3),\n",
    "        'Statistical Parity Diff': round(stat_dispar, 3)\n",
    "    })\n",
    "\n",
    "print(pd.DataFrame(age_grade_results))"
   ]
  },
  {
   "cell_type": "markdown",
   "metadata": {},
   "source": [
    "## Disparate Impact\n",
    "### Calculating Sex vs. Grades (First Period, Second Period, Final Grade)"
   ]
  },
  {
   "cell_type": "code",
   "execution_count": 6,
   "metadata": {},
   "outputs": [
    {
     "name": "stdout",
     "output_type": "stream",
     "text": [
      "  Grade  Pass Rate (Female)  Pass Rate (Male)  Disparate Impact\n",
      "0    G1               0.789             0.714             1.104\n",
      "1    G2               0.812             0.726             1.119\n",
      "2    G3               0.869             0.812             1.071\n"
     ]
    }
   ],
   "source": [
    "grades = ['G1', 'G2', 'G3']\n",
    "sex_grades_results = []\n",
    "\n",
    "for grade in grades:\n",
    "    df['pass'] = (df[grade] >= 10).astype(int)\n",
    "\n",
    "    pass_rates = df.groupby('sex', observed=True)['pass'].mean()\n",
    "\n",
    "    p_female = pass_rates['F']\n",
    "    p_male = pass_rates['M']\n",
    "\n",
    "    ## Privileged group is male, unprivileged group is female\n",
    "    disparate_imp = p_female / p_male\n",
    "\n",
    "    ## Perfect fairness threshold for disparate impact is 1.0\n",
    "    sex_grades_results.append({\n",
    "        'Grade': grade,\n",
    "        'Pass Rate (Female)': round(p_female, 3),\n",
    "        'Pass Rate (Male)': round(p_male, 3),\n",
    "        'Disparate Impact': round(disparate_imp, 3)\n",
    "    })\n",
    "\n",
    "print(pd.DataFrame(sex_grades_results))"
   ]
  },
  {
   "cell_type": "markdown",
   "metadata": {},
   "source": [
    "### Calculating Age vs. Grades (First Period, Second Period, Final Grade)"
   ]
  },
  {
   "cell_type": "code",
   "execution_count": 7,
   "metadata": {},
   "outputs": [
    {
     "name": "stdout",
     "output_type": "stream",
     "text": [
      "   Pass Rate (18+)  Pass Rate (15-17)  Disparate Impact\n",
      "0            0.652              0.799             0.816\n",
      "1            0.696              0.808             0.862\n",
      "2            0.790              0.868             0.911\n"
     ]
    }
   ],
   "source": [
    "age_grade_results = []\n",
    "df['age_group'] = pd.cut(df['age'], bins = [14,17,df['age'].max()], labels=['15-17', '18-22'])\n",
    "\n",
    "for grade in grades:\n",
    "    df['pass'] = (df[grade] >= 10).astype(int)\n",
    "\n",
    "    pass_rates = df.groupby('age_group', observed=True)['pass'].mean()\n",
    "\n",
    "    older = pass_rates['18-22']\n",
    "    younger = pass_rates['15-17']\n",
    "\n",
    "    ## Privileged group is younger, unprivileged group is older\n",
    "    disparate_imp = older / younger\n",
    "\n",
    "    ## Perfect fairness threshold for disparate impact is 1.0\n",
    "    age_grade_results.append({\n",
    "        'Pass Rate (18+)': round(older, 3),\n",
    "        'Pass Rate (15-17)': round(younger, 3),\n",
    "        'Disparate Impact': round(disparate_imp, 3)\n",
    "    })\n",
    "\n",
    "print(pd.DataFrame(age_grade_results))"
   ]
  },
  {
   "cell_type": "markdown",
   "metadata": {},
   "source": [
    "# Reweighing\n",
    "The algorithm selected for transforming the original dataset is Reweighing"
   ]
  },
  {
   "cell_type": "code",
   "execution_count": 8,
   "metadata": {},
   "outputs": [],
   "source": [
    "# Load the dataset\n",
    "ogf = pd.read_excel(\"student-por.xlsx\")\n",
    "\n",
    "# Convert 'sex' column to binary values (0 for Female, 1 for Male)\n",
    "ogf[\"sex\"] = ogf[\"sex\"].map({\"F\": 0, \"M\": 1})\n",
    "\n",
    "# Ensure all categorical columns are properly encoded\n",
    "ogf = ogf.apply(lambda col: col.astype('category').cat.codes if col.dtypes == 'object' else col)\n",
    "\n",
    "# Convert the dataset into an AIF360-compatible format\n",
    "dataset = StandardDataset(\n",
    "    ogf,\n",
    "    label_name=\"G3\",  # Outcome variable\n",
    "    favorable_classes=[ogf[\"G3\"].max()],  # Favorable outcome (highest grade)\n",
    "    protected_attribute_names=[\"sex\"],  # Protected attribute\n",
    "    privileged_classes=[[1]],  # Male is privileged group\n",
    ")\n",
    "\n",
    "# Apply the Reweighing algorithm\n",
    "reweighing = Reweighing(unprivileged_groups=[{\"sex\": 0}], privileged_groups=[{\"sex\": 1}])\n",
    "reweighed_dataset = reweighing.fit_transform(dataset)\n",
    "\n",
    "# Add weights to the original dataset\n",
    "ogf[\"weights\"] = reweighed_dataset.instance_weights\n",
    "\n",
    "# Reverse-map sex column: 0 → F, 1 → M\n",
    "ogf[\"sex\"] = ogf[\"sex\"].map({0: \"F\", 1: \"M\"})\n",
    "\n",
    "# Save the transformed dataset\n",
    "ogf.to_excel(\"reweighed_dataset.xlsx\", index=False)"
   ]
  },
  {
   "cell_type": "markdown",
   "metadata": {},
   "source": [
    "## Statistical Parity and Disparate Impact Reweighed\n",
    "### Calculating Sex vs. Grades (First Period, Second Period, Final Grade)"
   ]
  },
  {
   "cell_type": "code",
   "execution_count": 9,
   "metadata": {},
   "outputs": [],
   "source": [
    "df = pd.read_excel(\"reweighed_dataset.xlsx\")\n",
    "grades = ['G1', 'G2', 'G3']"
   ]
  },
  {
   "cell_type": "code",
   "execution_count": 10,
   "metadata": {},
   "outputs": [
    {
     "name": "stdout",
     "output_type": "stream",
     "text": [
      "  Grade  Predicted Pass Rate (Female)  Predicted Pass Rate (Male)  \\\n",
      "0    G1                         0.789                       0.714   \n",
      "1    G2                         0.812                       0.726   \n",
      "2    G3                         0.869                       0.812   \n",
      "\n",
      "   Statistical Parity Diff  Disparate Impact (F/M)  \n",
      "0                    0.074                   1.104  \n",
      "1                    0.086                   1.119  \n",
      "2                    0.057                   1.071  \n"
     ]
    }
   ],
   "source": [
    "results = []\n",
    "for grade in grades:\n",
    "    df['pass'] = (df[grade] >= 10).astype(int)\n",
    "    pass_rates = df.groupby('sex')['pass'].mean()\n",
    "    \n",
    "    pass_f = pass_rates['F']\n",
    "    pass_m = pass_rates['M']\n",
    "\n",
    "    stat_par = pass_f - pass_m\n",
    "    dis_imp = pass_f / pass_m if pass_m > 0 else float('inf')\n",
    "\n",
    "    results.append({\n",
    "        'Grade': grade,\n",
    "        'Predicted Pass Rate (Female)': round(pass_f, 3),\n",
    "        'Predicted Pass Rate (Male)': round(pass_m, 3),\n",
    "        'Statistical Parity Diff': round(stat_par, 3),\n",
    "        'Disparate Impact (F/M)': round(dis_imp, 3)\n",
    "    })\n",
    "print(pd.DataFrame(results))"
   ]
  },
  {
   "cell_type": "markdown",
   "metadata": {},
   "source": [
    "### Calculating Age vs. Grades (First Period, Second Period, Final Grade)"
   ]
  },
  {
   "cell_type": "code",
   "execution_count": 11,
   "metadata": {},
   "outputs": [
    {
     "name": "stdout",
     "output_type": "stream",
     "text": [
      "  Grade  Predicted Pass Rate (18+)  Predicted Pass Rate (15-17)  \\\n",
      "0    G1                      0.652                        0.799   \n",
      "1    G2                      0.696                        0.808   \n",
      "2    G3                      0.790                        0.868   \n",
      "\n",
      "   Statistical Parity Diff  Disparate Impact  \n",
      "0                   -0.147             0.816  \n",
      "1                   -0.112             0.862  \n",
      "2                   -0.077             0.911  \n"
     ]
    }
   ],
   "source": [
    "age_grade_results = []\n",
    "df['age_group'] = pd.cut(df['age'], bins = [14,17,df['age'].max()], labels=['15-17', '18-22'])\n",
    "\n",
    "for grade in grades:\n",
    "    ## Redefining passing threshold\n",
    "    df['pass'] = (df[grade] >= 10).astype(int)\n",
    "    pass_rates = df.groupby('age_group', observed=True)['pass'].mean()\n",
    "\n",
    "    older = pass_rates['18-22']\n",
    "    younger = pass_rates['15-17']\n",
    "\n",
    "    ## Privileged group is younger, unprivileged group is older\n",
    "    stat_par = older - younger\n",
    "    dis_imp = older / younger if younger > 0 else float('inf')\n",
    "\n",
    "    ## Perfect fairness threshold for statistical parity difference is 0\n",
    "    age_grade_results.append({\n",
    "        'Grade': grade,\n",
    "        'Predicted Pass Rate (18+)': round(older, 3),\n",
    "        'Predicted Pass Rate (15-17)': round(younger, 3),\n",
    "        'Statistical Parity Diff': round(stat_par, 3),\n",
    "        'Disparate Impact': round(dis_imp, 3)\n",
    "    })\n",
    "\n",
    "print(pd.DataFrame(age_grade_results))"
   ]
  },
  {
   "cell_type": "markdown",
   "metadata": {},
   "source": [
    "# Splitting the Original Dataset\n",
    "To assure that the reweighing reduced bias, the dataset will be split into testing and training data. \n",
    "1. The classifier will be used on the original dataset.\n",
    "2. The testing dataset will be used to compute the fairness metrics 'statistical parity' and 'disparate impact'. "
   ]
  },
  {
   "cell_type": "code",
   "execution_count": 12,
   "metadata": {},
   "outputs": [],
   "source": [
    "og_df = pd.read_excel('student-por.xlsx')\n",
    "X = og_df.drop(columns=['G3'])\n",
    "y = (og_df['G3'] >= 10).astype(int)\n",
    "X_coded = pd.get_dummies(X, drop_first=True)\n",
    "\n",
    "X_train, X_test, y_train, y_test = train_test_split(X_coded, y, test_size=0.5, random_state=42)"
   ]
  },
  {
   "cell_type": "markdown",
   "metadata": {},
   "source": [
    "## Training Classifier on Original Dataset\n",
    "Dependent variable selected: G3 (Final Grade)"
   ]
  },
  {
   "cell_type": "code",
   "execution_count": 13,
   "metadata": {},
   "outputs": [],
   "source": [
    "clf = RandomForestClassifier(random_state=42)\n",
    "\n",
    "X_full_code = pd.get_dummies(X, drop_first=True)\n",
    "\n",
    "clf.fit(X_train, y_train)\n",
    "\n",
    "og_df['predicted_label'] = clf.predict(X_full_code)\n",
    "y_pred_test = clf.predict(X_test)\n",
    "test_df = X_test.copy()\n",
    "test_df['pass'] = y_test\n",
    "test_df['predicted_label'] = y_pred_test\n",
    "test_df['sex'] = og_df.loc[X_test.index, 'sex']\n",
    "test_df['age'] = og_df.loc[X_test.index, 'age']\n",
    "test_df['G3'] = og_df.loc[X_test.index, 'G3']"
   ]
  },
  {
   "cell_type": "markdown",
   "metadata": {},
   "source": [
    "## Compute Fairness Metrics with Testing Dataset\n",
    "## Statistical Parity and Disparate Impact\n",
    "### Calculating Sex vs. Grades (Final Grade)"
   ]
  },
  {
   "cell_type": "code",
   "execution_count": 14,
   "metadata": {},
   "outputs": [
    {
     "name": "stdout",
     "output_type": "stream",
     "text": [
      "  Grade  Predicted Pass Rate (Female)  Predicted Pass Rate (Male)  \\\n",
      "0    G3                         0.883                       0.854   \n",
      "\n",
      "   Statistical Parity Diff  Disparate Impact (F/M)  \n",
      "0                    0.029                   1.034  \n"
     ]
    }
   ],
   "source": [
    "sex_test_results = []\n",
    "test_df['pass'] = (test_df['G3'] >= 10).astype(int)\n",
    "pass_rates = test_df.groupby('sex')['predicted_label'].mean()\n",
    "    \n",
    "pass_f = pass_rates['F']\n",
    "pass_m = pass_rates['M']\n",
    "\n",
    "stat_par = pass_f - pass_m\n",
    "dis_imp = pass_f / pass_m if pass_m > 0 else float('inf')\n",
    "\n",
    "sex_test_results.append({\n",
    "    'Grade': grade,\n",
    "    'Predicted Pass Rate (Female)': round(pass_f, 3),\n",
    "    'Predicted Pass Rate (Male)': round(pass_m, 3),\n",
    "    'Statistical Parity Diff': round(stat_par, 3),\n",
    "    'Disparate Impact (F/M)': round(dis_imp, 3)\n",
    "})\n",
    "print(pd.DataFrame(sex_test_results))"
   ]
  },
  {
   "cell_type": "code",
   "execution_count": 15,
   "metadata": {},
   "outputs": [
    {
     "name": "stdout",
     "output_type": "stream",
     "text": [
      "  Grade  Predicted Pass Rate (18-22)  Predicted Pass Rate (15-17)  \\\n",
      "0    G3                        0.809                         0.89   \n",
      "\n",
      "   Statistical Parity Diff  Disparate Impact  \n",
      "0                   -0.081             0.909  \n"
     ]
    }
   ],
   "source": [
    "age_test_results = []\n",
    "test_df['age_group'] = pd.cut(test_df['age'], bins = [14,17,test_df['age'].max()], labels=['15-17', '18-22'])\n",
    "test_df['pass'] = (test_df['G3'] >= 10).astype(int)\n",
    "pass_rates = test_df.groupby('age_group', observed=True)['pass'].mean()\n",
    "    \n",
    "pass_18 = pass_rates['18-22']\n",
    "pass_15 = pass_rates['15-17']\n",
    "\n",
    "stat_par = pass_18 - pass_15\n",
    "dis_imp = pass_18 / pass_15 if pass_15 > 0 else float('inf')\n",
    "\n",
    "age_test_results.append({\n",
    "    'Grade': grade,\n",
    "    'Predicted Pass Rate (18-22)': round(pass_18, 3),\n",
    "    'Predicted Pass Rate (15-17)': round(pass_15, 3),\n",
    "    'Statistical Parity Diff': round(stat_par, 3),\n",
    "    'Disparate Impact': round(dis_imp, 3)\n",
    "})\n",
    "print(pd.DataFrame(age_test_results))"
   ]
  },
  {
   "cell_type": "markdown",
   "metadata": {},
   "source": [
    "# Splitting the Transformed Dataset\n",
    "To assure that the reweighing reduced bias, the dataset will be split into testing and training data. \n",
    "1. The classifier will be used on the transformed dataset.\n",
    "2. The testing dataset will be used to compute the fairness metrics 'statistical parity' and 'disparate impact'. "
   ]
  },
  {
   "cell_type": "code",
   "execution_count": 16,
   "metadata": {},
   "outputs": [],
   "source": [
    "reweighed_X = df.drop(columns=['G3'])\n",
    "reweighed_y = (df['G3'] >= 10).astype(int)\n",
    "re_X_code = pd.get_dummies(reweighed_X, drop_first=True)\n",
    "\n",
    "re_X_train, re_X_test, re_y_train, re_y_test = train_test_split(re_X_code, reweighed_y, test_size=0.5, random_state=42)"
   ]
  },
  {
   "cell_type": "code",
   "execution_count": 17,
   "metadata": {},
   "outputs": [],
   "source": [
    "re_X_full = pd.get_dummies(reweighed_X, drop_first=True)\n",
    "\n",
    "clf.fit(re_X_train, re_y_train)\n",
    "\n",
    "df['predicted_label'] = clf.predict(re_X_full)\n",
    "y_pred_weighed = clf.predict(re_X_test)\n",
    "weighed_df = re_X_test.copy()\n",
    "weighed_df['pass'] = y_test\n",
    "weighed_df['predicted_label'] = y_pred_weighed\n",
    "weighed_df['sex'] = og_df.loc[X_test.index, 'sex']\n",
    "weighed_df['age'] = og_df.loc[X_test.index, 'age']\n",
    "weighed_df['G3'] = og_df.loc[X_test.index, 'G3']"
   ]
  },
  {
   "cell_type": "markdown",
   "metadata": {},
   "source": [
    "## Compute Fairness Metrics with Testing Dataset\n",
    "## Statistical Parity and Disparate Impact\n",
    "### Calculating Sex vs. Grades (Final Grade)"
   ]
  },
  {
   "cell_type": "code",
   "execution_count": 18,
   "metadata": {},
   "outputs": [
    {
     "name": "stdout",
     "output_type": "stream",
     "text": [
      "  Grade  Predicted Pass Rate (Female)  Predicted Pass Rate (Male)  \\\n",
      "0    G3                         0.894                       0.832   \n",
      "\n",
      "   Statistical Parity Diff  Disparate Impact (F/M)  \n",
      "0                    0.062                   1.074  \n"
     ]
    }
   ],
   "source": [
    "sex_weighed_results = []\n",
    "weighed_df['pass'] = (weighed_df['G3'] >= 10).astype(int)\n",
    "pass_rates = weighed_df.groupby('sex')['predicted_label'].mean()\n",
    "    \n",
    "pass_f = pass_rates['F']\n",
    "pass_m = pass_rates['M']\n",
    "\n",
    "stat_par = pass_f - pass_m\n",
    "dis_imp = pass_f / pass_m if pass_m > 0 else float('inf')\n",
    "\n",
    "sex_weighed_results.append({\n",
    "    'Grade': grade,\n",
    "    'Predicted Pass Rate (Female)': round(pass_f, 3),\n",
    "    'Predicted Pass Rate (Male)': round(pass_m, 3),\n",
    "    'Statistical Parity Diff': round(stat_par, 3),\n",
    "    'Disparate Impact (F/M)': round(dis_imp, 3)\n",
    "})\n",
    "print(pd.DataFrame(sex_weighed_results))"
   ]
  },
  {
   "cell_type": "code",
   "execution_count": 19,
   "metadata": {},
   "outputs": [
    {
     "name": "stdout",
     "output_type": "stream",
     "text": [
      "  Grade  Predicted Pass Rate (18-22)  Predicted Pass Rate (15-17)  \\\n",
      "0    G3                        0.809                         0.89   \n",
      "\n",
      "   Statistical Parity Diff  Disparate Impact  \n",
      "0                   -0.081             0.909  \n"
     ]
    }
   ],
   "source": [
    "age_weighed_results = []\n",
    "weighed_df['age_group'] = pd.cut(weighed_df['age'], bins = [14,17,weighed_df['age'].max()], labels=['15-17', '18-22'])\n",
    "weighed_df['pass'] = (weighed_df['G3'] >= 10).astype(int)\n",
    "weighed_pass_rates = weighed_df.groupby('age_group', observed=True)['pass'].mean()\n",
    "    \n",
    "pass_18 = weighed_pass_rates['18-22']\n",
    "pass_15 = weighed_pass_rates['15-17']\n",
    "\n",
    "stat_par = pass_18 - pass_15\n",
    "dis_imp = pass_18 / pass_15 if pass_15 > 0 else float('inf')\n",
    "\n",
    "age_weighed_results.append({\n",
    "    'Grade': grade,\n",
    "    'Predicted Pass Rate (18-22)': round(pass_18, 3),\n",
    "    'Predicted Pass Rate (15-17)': round(pass_15, 3),\n",
    "    'Statistical Parity Diff': round(stat_par, 3),\n",
    "    'Disparate Impact': round(dis_imp, 3)\n",
    "})\n",
    "print(pd.DataFrame(age_weighed_results))"
   ]
  }
 ],
 "metadata": {
  "kernelspec": {
   "display_name": "base",
   "language": "python",
   "name": "python3"
  },
  "language_info": {
   "codemirror_mode": {
    "name": "ipython",
    "version": 3
   },
   "file_extension": ".py",
   "mimetype": "text/x-python",
   "name": "python",
   "nbconvert_exporter": "python",
   "pygments_lexer": "ipython3",
   "version": "3.12.4"
  }
 },
 "nbformat": 4,
 "nbformat_minor": 4
}
