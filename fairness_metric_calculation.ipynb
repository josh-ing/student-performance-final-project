{
 "cells": [
  {
   "cell_type": "markdown",
   "metadata": {},
   "source": [
    "# Statistical Parity & Disparate Impact"
   ]
  },
  {
   "cell_type": "markdown",
   "metadata": {},
   "source": [
    "Read from dataset, and define passing criteria. Calculate passing rate for each gender, then calculate fairness metric."
   ]
  },
  {
   "cell_type": "code",
   "execution_count": 1,
   "metadata": {},
   "outputs": [],
   "source": [
    "import pandas as pd\n",
    "\n",
    "df = pd.read_excel(\"student-por.xlsx\")"
   ]
  },
  {
   "cell_type": "markdown",
   "metadata": {},
   "source": [
    "### Calculating Sex vs. Grades (First Period, Second Period, Final Grade)"
   ]
  },
  {
   "cell_type": "code",
   "execution_count": null,
   "metadata": {},
   "outputs": [
    {
     "name": "stdout",
     "output_type": "stream",
     "text": [
      "  Grade  Pass Rate (Female)  Pass Rate (Male)  Statistical Parity Diff\n",
      "0    G1               0.789             0.714                    0.074\n",
      "1    G2               0.812             0.726                    0.086\n",
      "2    G3               0.869             0.812                    0.057\n"
     ]
    }
   ],
   "source": [
    "grades = ['G1', 'G2', 'G3']\n",
    "sex_grades_results = []\n",
    "\n",
    "for grade in grades:\n",
    "    df['pass'] = (df[grade] >= 10).astype(int)\n",
    "\n",
    "    pass_rates = df.groupby('sex')['pass'].mean()\n",
    "\n",
    "    p_female = pass_rates['F']\n",
    "    p_male = pass_rates['M']\n",
    "\n",
    "    ## privileged vs unprivileged\n",
    "    stat_dispar = p_female - p_male\n",
    "\n",
    "    sex_grades_results.append({\n",
    "        'Grade': grade,\n",
    "        'Pass Rate (Female)': round(p_female, 3),\n",
    "        'Pass Rate (Male)': round(p_male, 3),\n",
    "        'Statistical Parity Diff': round(stat_dispar, 3),\n",
    "    })\n",
    "\n",
    "print(pd.DataFrame(sex_grades_results))\n"
   ]
  },
  {
   "cell_type": "markdown",
   "metadata": {},
   "source": [
    "## Calculating Age vs Grades (First Period, Second Period, Final Grade)"
   ]
  },
  {
   "cell_type": "code",
   "execution_count": null,
   "metadata": {},
   "outputs": [],
   "source": [
    "\n",
    "age_grade_results = []\n",
    "for grade in grades:\n"
   ]
  }
 ],
 "metadata": {
  "kernelspec": {
   "display_name": "base",
   "language": "python",
   "name": "python3"
  },
  "language_info": {
   "codemirror_mode": {
    "name": "ipython",
    "version": 3
   },
   "file_extension": ".py",
   "mimetype": "text/x-python",
   "name": "python",
   "nbconvert_exporter": "python",
   "pygments_lexer": "ipython3",
   "version": "3.12.7"
  }
 },
 "nbformat": 4,
 "nbformat_minor": 2
}
