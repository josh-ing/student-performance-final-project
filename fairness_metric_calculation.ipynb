{
 "cells": [
  {
   "cell_type": "markdown",
   "metadata": {},
   "source": [
    "# Fairness Metric Calculations"
   ]
  },
  {
   "cell_type": "markdown",
   "metadata": {},
   "source": [
    "Steps:\n",
    "1. Read from dataset\n",
    "2. Define passing criteria\n",
    "3. Calculate passing rate for each protected class (i.e., sex, age)\n",
    "4. Calculate fairness metric (i.e., statistical parity difference, disparate impact)"
   ]
  },
  {
   "cell_type": "code",
   "execution_count": 25,
   "metadata": {},
   "outputs": [],
   "source": [
    "import pandas as pd\n",
    "\n",
    "df = pd.read_excel(\"student-por.xlsx\")"
   ]
  },
  {
   "cell_type": "markdown",
   "metadata": {},
   "source": [
    "## Statistical Parity Difference\n",
    "### Calculating Sex vs. Grades (First Period, Second Period, Final Grade)"
   ]
  },
  {
   "cell_type": "code",
   "execution_count": 26,
   "metadata": {},
   "outputs": [
    {
     "name": "stdout",
     "output_type": "stream",
     "text": [
      "  Grade  Pass Rate (Female)  Pass Rate (Male)  Statistical Parity Diff\n",
      "0    G1               0.789             0.714                    0.074\n",
      "1    G2               0.812             0.726                    0.086\n",
      "2    G3               0.869             0.812                    0.057\n"
     ]
    }
   ],
   "source": [
    "grades = ['G1', 'G2', 'G3']\n",
    "sex_grades_results = []\n",
    "\n",
    "for grade in grades:\n",
    "    df['pass'] = (df[grade] >= 10).astype(int)\n",
    "\n",
    "    pass_rates = df.groupby('sex', observed=True)['pass'].mean()\n",
    "\n",
    "    p_female = pass_rates['F']\n",
    "    p_male = pass_rates['M']\n",
    "\n",
    "    ## Privileged group is male, unprivileged group is female\n",
    "    stat_dispar = p_female - p_male\n",
    "\n",
    "    ## Perfect fairness threshold for statistical parity difference is 0\n",
    "    sex_grades_results.append({\n",
    "        'Grade': grade,\n",
    "        'Pass Rate (Female)': round(p_female, 3),\n",
    "        'Pass Rate (Male)': round(p_male, 3),\n",
    "        'Statistical Parity Diff': round(stat_dispar, 3)\n",
    "    })\n",
    "\n",
    "print(pd.DataFrame(sex_grades_results))\n"
   ]
  },
  {
   "cell_type": "markdown",
   "metadata": {},
   "source": [
    "### Calculating Age vs. Grades (First Period, Second Period, Final Grade)"
   ]
  },
  {
   "cell_type": "code",
   "execution_count": 27,
   "metadata": {},
   "outputs": [
    {
     "name": "stdout",
     "output_type": "stream",
     "text": [
      "   Pass Rate (18+)  Pass Rate (15-17)  Statistical Parity Diff\n",
      "0            0.652              0.799                   -0.147\n",
      "1            0.696              0.808                   -0.112\n",
      "2            0.790              0.868                   -0.077\n"
     ]
    }
   ],
   "source": [
    "age_grade_results = []\n",
    "df['age_group'] = pd.cut(df['age'], bins = [14,17,df['age'].max()], labels=['15-17', '18-22'])\n",
    "\n",
    "for grade in grades:\n",
    "    df['pass'] = (df[grade] >= 10).astype(int)\n",
    "\n",
    "    pass_rates = df.groupby('age_group', observed=True)['pass'].mean()\n",
    "\n",
    "    older = pass_rates['18-22']\n",
    "    younger = pass_rates['15-17']\n",
    "\n",
    "    ## Privileged group is younger, unprivileged group is older\n",
    "    stat_dispar = older - younger\n",
    "\n",
    "    ## Perfect fairness threshold for statistical parity difference is 0\n",
    "    age_grade_results.append({\n",
    "        'Pass Rate (18+)': round(older, 3),\n",
    "        'Pass Rate (15-17)': round(younger, 3),\n",
    "        'Statistical Parity Diff': round(stat_dispar, 3)\n",
    "    })\n",
    "\n",
    "print(pd.DataFrame(age_grade_results))"
   ]
  },
  {
   "cell_type": "markdown",
   "metadata": {},
   "source": [
    "## Disparate Impact\n",
    "### Calculating Sex vs. Grades (First Period, Second Period, Final Grade)"
   ]
  },
  {
   "cell_type": "code",
   "execution_count": 28,
   "metadata": {},
   "outputs": [
    {
     "name": "stdout",
     "output_type": "stream",
     "text": [
      "  Grade  Pass Rate (Female)  Pass Rate (Male)  Disparate Impact\n",
      "0    G1               0.789             0.714             1.104\n",
      "1    G2               0.812             0.726             1.119\n",
      "2    G3               0.869             0.812             1.071\n"
     ]
    }
   ],
   "source": [
    "grades = ['G1', 'G2', 'G3']\n",
    "sex_grades_results = []\n",
    "\n",
    "for grade in grades:\n",
    "    df['pass'] = (df[grade] >= 10).astype(int)\n",
    "\n",
    "    pass_rates = df.groupby('sex', observed=True)['pass'].mean()\n",
    "\n",
    "    p_female = pass_rates['F']\n",
    "    p_male = pass_rates['M']\n",
    "\n",
    "    ## Privileged group is male, unprivileged group is female\n",
    "    disparate_imp = p_female / p_male\n",
    "\n",
    "    ## Perfect fairness threshold for disparate impact is 1.0\n",
    "    sex_grades_results.append({\n",
    "        'Grade': grade,\n",
    "        'Pass Rate (Female)': round(p_female, 3),\n",
    "        'Pass Rate (Male)': round(p_male, 3),\n",
    "        'Disparate Impact': round(disparate_imp, 3)\n",
    "    })\n",
    "\n",
    "print(pd.DataFrame(sex_grades_results))"
   ]
  },
  {
   "cell_type": "markdown",
   "metadata": {},
   "source": [
    "### Calculating Age vs. Grades (First Period, Second Period, Final Grade)"
   ]
  },
  {
   "cell_type": "code",
   "execution_count": 29,
   "metadata": {},
   "outputs": [
    {
     "name": "stdout",
     "output_type": "stream",
     "text": [
      "   Pass Rate (18+)  Pass Rate (15-17)  Disparate Impact\n",
      "0            0.652              0.799             0.816\n",
      "1            0.696              0.808             0.862\n",
      "2            0.790              0.868             0.911\n"
     ]
    }
   ],
   "source": [
    "age_grade_results = []\n",
    "df['age_group'] = pd.cut(df['age'], bins = [14,17,df['age'].max()], labels=['15-17', '18-22'])\n",
    "\n",
    "for grade in grades:\n",
    "    df['pass'] = (df[grade] >= 10).astype(int)\n",
    "\n",
    "    pass_rates = df.groupby('age_group', observed=True)['pass'].mean()\n",
    "\n",
    "    older = pass_rates['18-22']\n",
    "    younger = pass_rates['15-17']\n",
    "\n",
    "    ## Privileged group is younger, unprivileged group is older\n",
    "    disparate_imp = older / younger\n",
    "\n",
    "    ## Perfect fairness threshold for disparate impact is 1.0\n",
    "    age_grade_results.append({\n",
    "        'Pass Rate (18+)': round(older, 3),\n",
    "        'Pass Rate (15-17)': round(younger, 3),\n",
    "        'Disparate Impact': round(disparate_imp, 3)\n",
    "    })\n",
    "\n",
    "print(pd.DataFrame(age_grade_results))"
   ]
  },
  {
   "cell_type": "code",
   "execution_count": null,
   "metadata": {},
   "outputs": [],
   "source": []
  }
 ],
 "metadata": {
  "kernelspec": {
   "display_name": "Python 3 (ipykernel)",
   "language": "python",
   "name": "python3"
  },
  "language_info": {
   "codemirror_mode": {
    "name": "ipython",
    "version": 3
   },
   "file_extension": ".py",
   "mimetype": "text/x-python",
   "name": "python",
   "nbconvert_exporter": "python",
   "pygments_lexer": "ipython3",
   "version": "3.12.1"
  }
 },
 "nbformat": 4,
 "nbformat_minor": 4
}
